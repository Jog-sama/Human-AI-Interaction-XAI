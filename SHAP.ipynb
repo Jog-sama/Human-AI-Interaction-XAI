{
 "cells": [
  {
   "cell_type": "markdown",
   "id": "2b6373fb",
   "metadata": {},
   "source": [
    "# Explaining SHAP through Code"
   ]
  },
  {
   "cell_type": "markdown",
   "id": "bf660cc9",
   "metadata": {},
   "source": [
    "In this assignment, I will be demonstrating the use of SHAP (SHapley Additive exPlanations) to interpret a machine learning model\n",
    "\n",
    "SHAP is a powerful tool that helps explain the output of any machine learning model by computing the contribution of each feature to the prediction."
   ]
  },
  {
   "cell_type": "markdown",
   "id": "8079b5cb",
   "metadata": {},
   "source": [
    "### The Dataset\n",
    "\n",
    "- For this demonstration, I’ll be using the Adult Income Dataset (often referred to as the Census Income or “loan approval-like” dataset).\n",
    "\n",
    "- It contains demographic and financial information about individuals, such as age, education, occupation, marital status, and working hours per week; and predicts whether a person’s annual income exceeds $50K.\n",
    "\n",
    "- Although the dataset is about income classification, its structure closely resembles real-world loan approval models, where the goal is to predict whether an applicant qualifies for approval based on similar socioeconomic features."
   ]
  },
  {
   "cell_type": "code",
   "execution_count": 2,
   "id": "a396a010",
   "metadata": {},
   "outputs": [],
   "source": [
    "import pandas as pd\n",
    "from sklearn.model_selection import train_test_split\n",
    "from sklearn.preprocessing import LabelEncoder\n",
    "from sklearn.ensemble import RandomForestClassifier\n",
    "from sklearn.metrics import classification_report"
   ]
  },
  {
   "cell_type": "code",
   "execution_count": 3,
   "id": "719f4e0b",
   "metadata": {},
   "outputs": [],
   "source": [
    "# Load Data\n",
    "from sklearn.datasets import fetch_openml\n",
    "adult = fetch_openml(name='adult', version=2, as_frame=True)\n",
    "df = adult.frame"
   ]
  },
  {
   "cell_type": "markdown",
   "id": "882115d4",
   "metadata": {},
   "source": [
    "### Exploratory Data Analysis"
   ]
  },
  {
   "cell_type": "code",
   "execution_count": 4,
   "id": "b05ecfd4",
   "metadata": {},
   "outputs": [
    {
     "name": "stdout",
     "output_type": "stream",
     "text": [
      "<class 'pandas.core.frame.DataFrame'>\n",
      "RangeIndex: 48842 entries, 0 to 48841\n",
      "Data columns (total 15 columns):\n",
      " #   Column          Non-Null Count  Dtype   \n",
      "---  ------          --------------  -----   \n",
      " 0   age             48842 non-null  int64   \n",
      " 1   workclass       46043 non-null  category\n",
      " 2   fnlwgt          48842 non-null  int64   \n",
      " 3   education       48842 non-null  category\n",
      " 4   education-num   48842 non-null  int64   \n",
      " 5   marital-status  48842 non-null  category\n",
      " 6   occupation      46033 non-null  category\n",
      " 7   relationship    48842 non-null  category\n",
      " 8   race            48842 non-null  category\n",
      " 9   sex             48842 non-null  category\n",
      " 10  capital-gain    48842 non-null  int64   \n",
      " 11  capital-loss    48842 non-null  int64   \n",
      " 12  hours-per-week  48842 non-null  int64   \n",
      " 13  native-country  47985 non-null  category\n",
      " 14  class           48842 non-null  category\n",
      "dtypes: category(9), int64(6)\n",
      "memory usage: 2.7 MB\n",
      "None\n",
      "   age  workclass  fnlwgt     education  education-num      marital-status  \\\n",
      "0   25    Private  226802          11th              7       Never-married   \n",
      "1   38    Private   89814       HS-grad              9  Married-civ-spouse   \n",
      "2   28  Local-gov  336951    Assoc-acdm             12  Married-civ-spouse   \n",
      "3   44    Private  160323  Some-college             10  Married-civ-spouse   \n",
      "4   18        NaN  103497  Some-college             10       Never-married   \n",
      "\n",
      "          occupation relationship   race     sex  capital-gain  capital-loss  \\\n",
      "0  Machine-op-inspct    Own-child  Black    Male             0             0   \n",
      "1    Farming-fishing      Husband  White    Male             0             0   \n",
      "2    Protective-serv      Husband  White    Male             0             0   \n",
      "3  Machine-op-inspct      Husband  Black    Male          7688             0   \n",
      "4                NaN    Own-child  White  Female             0             0   \n",
      "\n",
      "   hours-per-week native-country  class  \n",
      "0              40  United-States  <=50K  \n",
      "1              50  United-States  <=50K  \n",
      "2              40  United-States   >50K  \n",
      "3              40  United-States   >50K  \n",
      "4              30  United-States  <=50K  \n"
     ]
    }
   ],
   "source": [
    "# basic info about the dataset\n",
    "print(df.info())\n",
    "\n",
    "# first few rows\n",
    "print(df.head())"
   ]
  },
  {
   "cell_type": "code",
   "execution_count": 5,
   "id": "f4c90518",
   "metadata": {},
   "outputs": [
    {
     "name": "stdout",
     "output_type": "stream",
     "text": [
      "age                  0\n",
      "workclass         2799\n",
      "fnlwgt               0\n",
      "education            0\n",
      "education-num        0\n",
      "marital-status       0\n",
      "occupation        2809\n",
      "relationship         0\n",
      "race                 0\n",
      "sex                  0\n",
      "capital-gain         0\n",
      "capital-loss         0\n",
      "hours-per-week       0\n",
      "native-country     857\n",
      "class                0\n",
      "dtype: int64\n",
      "                age        fnlwgt  education-num  capital-gain  capital-loss  \\\n",
      "count  48842.000000  4.884200e+04   48842.000000  48842.000000  48842.000000   \n",
      "mean      38.643585  1.896641e+05      10.078089   1079.067626     87.502314   \n",
      "std       13.710510  1.056040e+05       2.570973   7452.019058    403.004552   \n",
      "min       17.000000  1.228500e+04       1.000000      0.000000      0.000000   \n",
      "25%       28.000000  1.175505e+05       9.000000      0.000000      0.000000   \n",
      "50%       37.000000  1.781445e+05      10.000000      0.000000      0.000000   \n",
      "75%       48.000000  2.376420e+05      12.000000      0.000000      0.000000   \n",
      "max       90.000000  1.490400e+06      16.000000  99999.000000   4356.000000   \n",
      "\n",
      "       hours-per-week  \n",
      "count    48842.000000  \n",
      "mean        40.422382  \n",
      "std         12.391444  \n",
      "min          1.000000  \n",
      "25%         40.000000  \n",
      "50%         40.000000  \n",
      "75%         45.000000  \n",
      "max         99.000000  \n"
     ]
    }
   ],
   "source": [
    "# Missing values and summary statistics\n",
    "print(df.isnull().sum())\n",
    "\n",
    "# Statistics for numerical features\n",
    "print(df.describe())"
   ]
  },
  {
   "cell_type": "markdown",
   "id": "2088c7bf",
   "metadata": {},
   "source": [
    "Here are some observations from the EDA:\n",
    "- The dataset contains 48,842 entries and 15 columns — a mix of numerical and categorical features.\n",
    "- Key numeric features include age, education-num, capital-gain, capital-loss, and hours-per-week\n",
    "- Categorical features like workclass, education, marital-status, occupation, and relationship describe demographic and employment characteristics.\n",
    "\n",
    "There are a few missing or null values:\n",
    "- workclass (~2,799 missing)\n",
    "- occupation (~2,809 missing)\n",
    "- native-country (~857 missing)"
   ]
  },
  {
   "cell_type": "markdown",
   "id": "25aa49d0",
   "metadata": {},
   "source": [
    "Numerical distributions reveal:\n",
    "- The average age of individuals is around 38 years.\n",
    "- Most people work approximately 40 hours per week.\n",
    "- Features like capital-gain and capital-loss are highly skewed, with most values being 0 and a few extreme outliers.\n",
    "\n",
    "These insights suggest that minimal cleaning is required, and careful encoding of categorical features will be essential before training our model."
   ]
  },
  {
   "cell_type": "code",
   "execution_count": 6,
   "id": "ecf75a3b",
   "metadata": {},
   "outputs": [
    {
     "data": {
      "text/plain": [
       "class\n",
       "<=50K    0.760718\n",
       ">50K     0.239282\n",
       "Name: proportion, dtype: float64"
      ]
     },
     "execution_count": 6,
     "metadata": {},
     "output_type": "execute_result"
    }
   ],
   "source": [
    "# checking the target variable distribution\n",
    "df['class'].value_counts(normalize=True)"
   ]
  },
  {
   "cell_type": "markdown",
   "id": "429adf96",
   "metadata": {},
   "source": [
    "### Cleaning and Preprocessing the Data"
   ]
  },
  {
   "cell_type": "markdown",
   "id": "00b8937a",
   "metadata": {},
   "source": [
    "The target variable class is slightly imbalanced. A majority of individuals earn ≤ $50K.\n",
    "This mirrors real-world data, where higher income levels are relatively rarer."
   ]
  },
  {
   "cell_type": "code",
   "execution_count": 7,
   "id": "eb5812f5",
   "metadata": {},
   "outputs": [],
   "source": [
    "df = df.dropna()\n",
    "df = df.copy()\n",
    "encoders = {}\n",
    "label_cols = df.select_dtypes(include='category').columns.tolist()\n",
    "\n",
    "for col in label_cols:\n",
    "    le = LabelEncoder()\n",
    "    df[col] = df[col].astype(str)\n",
    "    df[col] = le.fit_transform(df[col])\n",
    "    encoders[col] = le\n",
    "\n",
    "X = df.drop([\"class\", \"fnlwgt\"], axis=1)\n",
    "y = df[\"class\"].apply(lambda x: 1 if x == '>50K' else 0)"
   ]
  },
  {
   "cell_type": "markdown",
   "id": "e1988a42",
   "metadata": {},
   "source": [
    "- I removed any rows containing missing entries in columns like workclass, occupation, and native-country to avoid bias or inconsistency during training\n",
    "- Since machine learning models require numerical input, all categorical columns were label encoded using LabelEncoder().\n",
    "- The feature matrix X includes demographic and employment-related columns.\n",
    "- The target variable y represents income:\n",
    "    - 1 - Income greater than $50K\n",
    "    - 0 - Income less than or equal to $50K\n",
    "- The fnlwgt column (final weight) was dropped, as it doesn’t contribute directly to prediction."
   ]
  },
  {
   "cell_type": "code",
   "execution_count": 8,
   "id": "071f9fcf",
   "metadata": {},
   "outputs": [
    {
     "name": "stdout",
     "output_type": "stream",
     "text": [
      "Majority samples: 34014\n",
      "Minority samples: 11208\n",
      "Balanced dataset size: (68028, 15)\n"
     ]
    }
   ],
   "source": [
    "from sklearn.utils import resample\n",
    "\n",
    "# removing class imbalance by upsampling the minority class\n",
    "# separate majority and minority classes\n",
    "df_majority = df[df[\"class\"] == 0]\n",
    "df_minority = df[df[\"class\"] == 1]\n",
    "\n",
    "print(\"Majority samples:\", len(df_majority))\n",
    "print(\"Minority samples:\", len(df_minority))\n",
    "\n",
    "# upsampling the minority class\n",
    "df_minority_upsampled = resample(\n",
    "    df_minority,\n",
    "    replace=True,                     \n",
    "    n_samples=len(df_majority),        \n",
    "    random_state=42\n",
    ")\n",
    "\n",
    "# combining majority class with upsampled minority class\n",
    "df_balanced = pd.concat([df_majority, df_minority_upsampled])\n",
    "print(\"Balanced dataset size:\", df_balanced.shape)\n",
    "\n",
    "# shuffling the balanced dataset\n",
    "df_balanced = df_balanced.sample(frac=1, random_state=42).reset_index(drop=True)"
   ]
  },
  {
   "cell_type": "code",
   "execution_count": 9,
   "id": "8a3aa246",
   "metadata": {},
   "outputs": [],
   "source": [
    "X = df_balanced.drop([\"class\", \"fnlwgt\"], axis=1)\n",
    "y = df_balanced[\"class\"]\n",
    "\n",
    "X_train, X_test, y_train, y_test = train_test_split(\n",
    "    X, y, test_size=0.2, random_state=42\n",
    ")"
   ]
  },
  {
   "cell_type": "markdown",
   "id": "f7e816f8",
   "metadata": {},
   "source": [
    "To ensure the model learns fairly from both classes, I used random upsampling to duplicate samples from the minority class until both classes had equal representation.  \n",
    "This helps the model avoid bias toward the majority class and improves interpretability when using SHAP "
   ]
  },
  {
   "cell_type": "markdown",
   "id": "599fcc2f",
   "metadata": {},
   "source": [
    "### Training the Model"
   ]
  },
  {
   "cell_type": "code",
   "execution_count": 10,
   "id": "26d9ec6c",
   "metadata": {},
   "outputs": [
    {
     "name": "stdout",
     "output_type": "stream",
     "text": [
      "              precision    recall  f1-score   support\n",
      "\n",
      "           0       0.95      0.87      0.91      6767\n",
      "           1       0.88      0.96      0.92      6839\n",
      "\n",
      "    accuracy                           0.91     13606\n",
      "   macro avg       0.92      0.91      0.91     13606\n",
      "weighted avg       0.92      0.91      0.91     13606\n",
      "\n"
     ]
    }
   ],
   "source": [
    "X_train, X_test, y_train, y_test = train_test_split(X, y, test_size=0.2, random_state=42)\n",
    "\n",
    "# Training a Random Forest Classifier\n",
    "model_adult = RandomForestClassifier(random_state=42)\n",
    "model_adult.fit(X_train, y_train)\n",
    "print(classification_report(y_test, model_adult.predict(X_test)))"
   ]
  },
  {
   "cell_type": "markdown",
   "id": "a27cf800",
   "metadata": {},
   "source": [
    "I trained a Random Forest Classifier on the preprocessed data, using an 80-20 train-test split.\n",
    "Random Forest is an ensemble method that builds multiple decision trees and averages their predictions for better accuracy and generalization.\n",
    "\n",
    "The model achieved strong performance on the test set, with precision, recall, and F1-scores around 0.9. This shows that the model has learned meaningful patterns from the data, but to understand why it makes those predictions, I’ll use SHAP next."
   ]
  },
  {
   "cell_type": "markdown",
   "id": "a74d8c4d",
   "metadata": {},
   "source": [
    "### SHAP (Local + Global)"
   ]
  },
  {
   "cell_type": "markdown",
   "id": "4063d29e",
   "metadata": {},
   "source": [
    "SHAP combines ideas from cooperative game theory and local explanations to show how each feature contributes to a model’s output.\n",
    "- Global Interpretations: help us understand which features have the most overall influence across all predictions.\n",
    "- Local Interpretations: explain why a specific individual prediction was made, showing feature contributions for a single instance."
   ]
  },
  {
   "cell_type": "code",
   "execution_count": null,
   "id": "e788b41d",
   "metadata": {},
   "outputs": [
    {
     "data": {
      "image/png": "[encoded data removed]",
      "text/plain": [
       "<Figure size 640x480 with 1 Axes>"
      ]
     },
     "metadata": {},
     "output_type": "display_data"
    },
    {
     "data": {
      "image/png": "[encoded data removed]",
      "text/plain": [
       "<Figure size 1150x660 with 2 Axes>"
      ]
     },
     "metadata": {},
     "output_type": "display_data"
    },
    {
     "name": "stdout",
     "output_type": "stream",
     "text": [
      "SHAP Local Explanation for Predicted Class: 0\n"
     ]
    },
    {
     "ename": "ValueError",
     "evalue": "The waterfall plot can currently only plot a single explanation, but a matrix of explanations (shape (13, 2)) was passed! Perhaps try `shap.plots.waterfall(shap_values[0])` or for multi-output models, try `shap.plots.waterfall(shap_values[0, 0])`.",
     "output_type": "error",
     "traceback": [
      "\u001b[31m---------------------------------------------------------------------------\u001b[39m",
      "\u001b[31mValueError\u001b[39m                                Traceback (most recent call last)",
      "\u001b[36mCell\u001b[39m\u001b[36m \u001b[39m\u001b[32mIn[13]\u001b[39m\u001b[32m, line 34\u001b[39m\n\u001b[32m     26\u001b[39m \u001b[38;5;28mprint\u001b[39m(\u001b[33mf\u001b[39m\u001b[33m\"\u001b[39m\u001b[33mSHAP Local Explanation for Predicted Class: \u001b[39m\u001b[38;5;132;01m{\u001b[39;00mpredicted_class\u001b[38;5;132;01m}\u001b[39;00m\u001b[33m\"\u001b[39m)\n\u001b[32m     28\u001b[39m exp = shap.Explanation(\n\u001b[32m     29\u001b[39m     values=shap_values_to_plot[idx],\n\u001b[32m     30\u001b[39m     base_values=base_value,\n\u001b[32m     31\u001b[39m     data=sample_X.iloc[idx],\n\u001b[32m     32\u001b[39m     feature_names=sample_X.columns\n\u001b[32m     33\u001b[39m )\n\u001b[32m---> \u001b[39m\u001b[32m34\u001b[39m \u001b[43mshap\u001b[49m\u001b[43m.\u001b[49m\u001b[43mplots\u001b[49m\u001b[43m.\u001b[49m\u001b[43mwaterfall\u001b[49m\u001b[43m(\u001b[49m\u001b[43mexp\u001b[49m\u001b[43m)\u001b[49m\n",
      "\u001b[36mFile \u001b[39m\u001b[32m~/code/AIPI-590.01/Human-AI Interaction/.venv/lib/python3.12/site-packages/shap/plots/_waterfall.py:65\u001b[39m, in \u001b[36mwaterfall\u001b[39m\u001b[34m(shap_values, max_display, show)\u001b[39m\n\u001b[32m     58\u001b[39m \u001b[38;5;28;01mif\u001b[39;00m \u001b[38;5;28mlen\u001b[39m(sv_shape) != \u001b[32m1\u001b[39m:\n\u001b[32m     59\u001b[39m     emsg = (\n\u001b[32m     60\u001b[39m         \u001b[33m\"\u001b[39m\u001b[33mThe waterfall plot can currently only plot a single explanation, but a \u001b[39m\u001b[33m\"\u001b[39m\n\u001b[32m     61\u001b[39m         \u001b[33mf\u001b[39m\u001b[33m\"\u001b[39m\u001b[33mmatrix of explanations (shape \u001b[39m\u001b[38;5;132;01m{\u001b[39;00msv_shape\u001b[38;5;132;01m}\u001b[39;00m\u001b[33m) was passed! Perhaps try \u001b[39m\u001b[33m\"\u001b[39m\n\u001b[32m     62\u001b[39m         \u001b[33m\"\u001b[39m\u001b[33m`shap.plots.waterfall(shap_values[0])` or for multi-output models, \u001b[39m\u001b[33m\"\u001b[39m\n\u001b[32m     63\u001b[39m         \u001b[33m\"\u001b[39m\u001b[33mtry `shap.plots.waterfall(shap_values[0, 0])`.\u001b[39m\u001b[33m\"\u001b[39m\n\u001b[32m     64\u001b[39m     )\n\u001b[32m---> \u001b[39m\u001b[32m65\u001b[39m     \u001b[38;5;28;01mraise\u001b[39;00m \u001b[38;5;167;01mValueError\u001b[39;00m(emsg)\n\u001b[32m     67\u001b[39m base_values = \u001b[38;5;28mfloat\u001b[39m(shap_values.base_values)\n\u001b[32m     68\u001b[39m features = shap_values.display_data \u001b[38;5;28;01mif\u001b[39;00m shap_values.display_data \u001b[38;5;129;01mis\u001b[39;00m \u001b[38;5;129;01mnot\u001b[39;00m \u001b[38;5;28;01mNone\u001b[39;00m \u001b[38;5;28;01melse\u001b[39;00m shap_values.data\n",
      "\u001b[31mValueError\u001b[39m: The waterfall plot can currently only plot a single explanation, but a matrix of explanations (shape (13, 2)) was passed! Perhaps try `shap.plots.waterfall(shap_values[0])` or for multi-output models, try `shap.plots.waterfall(shap_values[0, 0])`."
     ]
    }
   ],
   "source": [
    "import matplotlib\n",
    "import matplotlib.pyplot as plt\n",
    "import shap\n",
    "\n",
    "# Initializing SHAP explainer\n",
    "explainer = shap.TreeExplainer(model_adult) # becuase normally, shap uses the KernelExplainer for Random Forests which is much slower\n",
    "\n",
    "sample_X = X_test.sample(500, random_state=42)\n",
    "shap_values = explainer.shap_values(sample_X) # using a sample for speed\n",
    "\n",
    "# global explanation\n",
    "plt.title(\"SHAP Summary (Global Interpretation)\")\n",
    "shap.summary_plot(shap_values[1], sample_X)\n",
    "\n",
    "# local explanation \n",
    "# Choosing a random example from test set\n",
    "idx = 0\n",
    "predicted_class = model_adult.predict(sample_X.iloc[[idx]])[0]\n",
    "print(f\"SHAP Local Explanation for Predicted Class: {predicted_class}\")\n",
    "\n",
    "# getting the explanation for the first instance\n",
    "exp = shap.Explanation(\n",
    "    values=shap_values[1][idx],                \n",
    "    base_values=explainer.expected_value[1],  \n",
    "    data=sample_X.iloc[idx],\n",
    "    feature_names=list(sample_X.columns)\n",
    ")\n",
    "\n",
    "shap.plots.waterfall(exp)"
   ]
  },
  {
   "cell_type": "code",
   "execution_count": null,
   "id": "81ce49c2",
   "metadata": {},
   "outputs": [],
   "source": []
  }
 ],
 "metadata": {
  "kernelspec": {
   "display_name": ".venv (3.12.3)",
   "language": "python",
   "name": "python3"
  },
  "language_info": {
   "codemirror_mode": {
    "name": "ipython",
    "version": 3
   },
   "file_extension": ".py",
   "mimetype": "text/x-python",
   "name": "python",
   "nbconvert_exporter": "python",
   "pygments_lexer": "ipython3",
   "version": "3.12.3"
  }
 },
 "nbformat": 4,
 "nbformat_minor": 5
}
